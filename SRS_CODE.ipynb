{
  "cells": [
    {
      "cell_type": "markdown",
      "metadata": {
        "id": "view-in-github",
        "colab_type": "text"
      },
      "source": [
        "<a href=\"https://colab.research.google.com/github/Runway4/SRS/blob/main/SRS_CODE.ipynb\" target=\"_parent\"><img src=\"https://colab.research.google.com/assets/colab-badge.svg\" alt=\"Open In Colab\"/></a>"
      ]
    },
    {
      "cell_type": "code",
      "execution_count": 3,
      "metadata": {
        "colab": {
          "base_uri": "https://localhost:8080/"
        },
        "id": "omJU0BoQ_xMu",
        "outputId": "d3deb59c-5812-4d97-a501-70390bfadff5"
      },
      "outputs": [
        {
          "output_type": "stream",
          "name": "stdout",
          "text": [
            "Mounted at /content/drive\n",
            "Loading the dataset...\n"
          ]
        }
      ],
      "source": [
        "import pandas as pd\n",
        "from sklearn.model_selection import train_test_split\n",
        "from sklearn.feature_extraction.text import CountVectorizer\n",
        "from sklearn.svm import SVC\n",
        "from sklearn.linear_model import LogisticRegression\n",
        "from sklearn.ensemble import RandomForestClassifier\n",
        "from sklearn.naive_bayes import MultinomialNB\n",
        "from sklearn.neural_network import MLPClassifier\n",
        "from sklearn.metrics import accuracy_score\n",
        "from tqdm.notebook import tqdm\n",
        "from google.colab import drive\n",
        "drive.mount('/content/drive')\n",
        "\n",
        "#Google Drive\n",
        "data_path = \"/content/drive/MyDrive/training.1600000.processed.noemoticon.csv\"\n",
        "\n",
        "print(\"Loading the dataset...\")\n",
        "df = pd.read_csv(data_path, encoding='ISO-8859-1', header=None,\n",
        "                 names=['target', 'ids', 'date', 'flag', 'user', 'text'])\n",
        "df = df.drop(columns=['ids', 'date', 'flag', 'user'])\n",
        "df['target'] = df['target'].map({0: 0, 2: 1, 4: 2})\n",
        "\n",
        "# random select\n",
        "df_subset = df.sample(frac=0.05, random_state=42)\n",
        "\n",
        "X = df_subset['text']\n",
        "y = df_subset['target']\n"
      ]
    },
    {
      "cell_type": "code",
      "execution_count": 4,
      "metadata": {
        "colab": {
          "base_uri": "https://localhost:8080/"
        },
        "id": "O3sNWbKkdnNw",
        "outputId": "a7553917-c678-4d47-82be-1116676466df"
      },
      "outputs": [
        {
          "output_type": "stream",
          "name": "stdout",
          "text": [
            "Converting text data to numerical features...\n"
          ]
        }
      ],
      "source": [
        "print(\"Converting text data to numerical features...\")\n",
        "vectorizer = CountVectorizer()\n",
        "X = vectorizer.fit_transform(X)"
      ]
    },
    {
      "cell_type": "code",
      "execution_count": 5,
      "metadata": {
        "colab": {
          "base_uri": "https://localhost:8080/"
        },
        "id": "AGEWf3NudsbO",
        "outputId": "02b0d3c0-633b-4f6f-df87-b5a2a55d3300"
      },
      "outputs": [
        {
          "output_type": "stream",
          "name": "stdout",
          "text": [
            "Splitting the dataset...\n"
          ]
        }
      ],
      "source": [
        "#(8:2 ratio)\n",
        "print(\"Splitting the dataset...\")\n",
        "X_train, X_test, y_train, y_test = train_test_split(X, y, test_size=0.2, random_state=42)"
      ]
    },
    {
      "cell_type": "code",
      "execution_count": null,
      "metadata": {
        "colab": {
          "base_uri": "https://localhost:8080/"
        },
        "id": "xmC8kcaedyCF",
        "outputId": "fd61bf7b-d750-4085-a2a2-ae9a0f77dec3"
      },
      "outputs": [
        {
          "metadata": {
            "tags": null
          },
          "name": "stdout",
          "output_type": "stream",
          "text": [
            "Training the SVM model...\n"
          ]
        }
      ],
      "source": [
        "print(\"Training the SVM model...\")\n",
        "svm_model = SVC(kernel='linear', C=1.0, random_state=42)\n",
        "svm_model.fit(X_train, y_train)\n",
        "y_pred_svm = svm_model.predict(X_test)\n",
        "accuracy_svm = accuracy_score(y_test, y_pred_svm)\n",
        "print(\"SVM Accuracy:\", accuracy_svm)"
      ]
    },
    {
      "cell_type": "code",
      "execution_count": null,
      "metadata": {
        "colab": {
          "base_uri": "https://localhost:8080/"
        },
        "id": "Db2cqKOjd0kn",
        "outputId": "c7ee057f-1a6d-4f14-8475-94c7a84d3ada"
      },
      "outputs": [
        {
          "name": "stdout",
          "output_type": "stream",
          "text": [
            "Training the Logistic Regression model...\n",
            "Logistic Regression Accuracy: 0.7766875\n"
          ]
        }
      ],
      "source": [
        "print(\"Training the Logistic Regression model...\")\n",
        "logreg_model = LogisticRegression(random_state=42, max_iter=1000)\n",
        "logreg_model.fit(X_train, y_train)\n",
        "y_pred_logreg = logreg_model.predict(X_test)\n",
        "accuracy_logreg = accuracy_score(y_test, y_pred_logreg)\n",
        "print(\"Logistic Regression Accuracy:\", accuracy_logreg)\n"
      ]
    },
    {
      "cell_type": "code",
      "execution_count": null,
      "metadata": {
        "colab": {
          "background_save": true,
          "base_uri": "https://localhost:8080/"
        },
        "id": "CKvtzR8Nd3BT",
        "outputId": "7eacd138-4ac9-4e88-bcb6-4a489f7bf41e"
      },
      "outputs": [
        {
          "name": "stdout",
          "output_type": "stream",
          "text": [
            "Training the Random Forest model...\n",
            "Random Forest Accuracy: 0.7832125\n"
          ]
        }
      ],
      "source": [
        "print(\"Training the Random Forest model...\")\n",
        "rf_model = RandomForestClassifier(random_state=42)\n",
        "rf_model.fit(X_train, y_train)\n",
        "y_pred_rf = rf_model.predict(X_test)\n",
        "accuracy_rf = accuracy_score(y_test, y_pred_rf)\n",
        "print(\"Random Forest Accuracy:\", accuracy_rf)\n"
      ]
    },
    {
      "cell_type": "code",
      "execution_count": 6,
      "metadata": {
        "id": "0wJAbxvVd7HO",
        "colab": {
          "base_uri": "https://localhost:8080/"
        },
        "outputId": "d065cf81-2efa-4e48-ccd3-4242211465e8"
      },
      "outputs": [
        {
          "output_type": "stream",
          "name": "stdout",
          "text": [
            "Training the Multinomial Naive Bayes model...\n",
            "Multinomial Naive Bayes Accuracy: 0.759125\n"
          ]
        }
      ],
      "source": [
        "print(\"Training the Multinomial Naive Bayes model...\")\n",
        "nb_model = MultinomialNB()\n",
        "nb_model.fit(X_train, y_train)\n",
        "y_pred_nb = nb_model.predict(X_test)\n",
        "accuracy_nb = accuracy_score(y_test, y_pred_nb)\n",
        "print(\"Multinomial Naive Bayes Accuracy:\", accuracy_nb)\n"
      ]
    },
    {
      "cell_type": "code",
      "execution_count": null,
      "metadata": {
        "colab": {
          "base_uri": "https://localhost:8080/"
        },
        "id": "HsgfK1fDd9F4",
        "outputId": "04f71bec-f722-4266-cbf1-f62cd0dab47d"
      },
      "outputs": [
        {
          "metadata": {
            "tags": null
          },
          "name": "stdout",
          "output_type": "stream",
          "text": [
            "Training the Multi-layer Perceptron (MLP) model...\n"
          ]
        }
      ],
      "source": [
        "# Step 8: Build and train Multi-layer Perceptron (MLP) model\n",
        "print(\"Training the Multi-layer Perceptron (MLP) model...\")\n",
        "mlp_model = MLPClassifier(random_state=42)\n",
        "mlp_model.fit(X_train, y_train)\n",
        "\n",
        "# Training MLP model in batches\n",
        "batch_size = 1000\n",
        "total_batches = X_test.shape[0] // batch_size\n",
        "\n",
        "print(\"Progress:\")\n",
        "for i in range(total_batches):\n",
        "    batch_X = X_test[i * batch_size: (i + 1) * batch_size]\n",
        "    batch_y = y_test[i * batch_size: (i + 1) * batch_size]\n",
        "    mlp_model.partial_fit(batch_X, batch_y, classes=[0, 1, 2])\n",
        "    print(f\"Batch {i+1}/{total_batches} completed\")\n",
        "\n",
        "# Make predictions on the test set and calculate accuracy for MLP\n",
        "y_pred_mlp = mlp_model.predict(X_test)\n",
        "accuracy_mlp = accuracy_score(y_test, y_pred_mlp)\n",
        "print(\"Multi-layer Perceptron Accuracy:\", accuracy_mlp)\n"
      ]
    }
  ],
  "metadata": {
    "colab": {
      "provenance": [],
      "include_colab_link": true
    },
    "kernelspec": {
      "display_name": "Python 3",
      "name": "python3"
    },
    "language_info": {
      "name": "python"
    }
  },
  "nbformat": 4,
  "nbformat_minor": 0
}